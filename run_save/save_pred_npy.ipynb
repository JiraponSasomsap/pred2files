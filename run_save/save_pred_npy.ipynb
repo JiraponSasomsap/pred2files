{
 "cells": [
  {
   "cell_type": "code",
   "execution_count": null,
   "id": "e12514a8",
   "metadata": {},
   "outputs": [],
   "source": [
    "import sys\n",
    "sys.path.append('..')\n",
    "\n",
    "from predictor import yolo\n",
    "from save import SaveNumpy\n",
    "import cv2\n",
    "from pathlib import Path\n",
    "from submodules import cv3"
   ]
  },
  {
   "cell_type": "code",
   "execution_count": null,
   "id": "4a4674de",
   "metadata": {},
   "outputs": [],
   "source": [
    "video_path = Path(r\"C:\\Users\\articulusaitraining\\projects\\fruits-app\\fruits-app\\20250516145853012.mp4\")\n",
    "model_path = Path(r\"C:\\Users\\articulusaitraining\\projects\\ptg\\punthai\\weights\\v1x_PunthaiChaengWatthana_freeze10.pt\")\n",
    "save_as = r\".\""
   ]
  },
  {
   "cell_type": "markdown",
   "id": "c2047bee",
   "metadata": {},
   "source": [
    "## Predict & Save (npy)"
   ]
  },
  {
   "cell_type": "code",
   "execution_count": null,
   "id": "fa73b14d",
   "metadata": {},
   "outputs": [],
   "source": [
    "model = yolo(model_path)\n",
    "saver = SaveNumpy(save_as=save_as)\n",
    "\n",
    "cap=cv2.VideoCapture(video_path)\n",
    "saved_path = None\n",
    "\n",
    "config = {\n",
    "    'path':{\n",
    "        'model_path':model_path.as_posix(),\n",
    "        'source_path':video_path.as_posix(),\n",
    "    },\n",
    "    'model':model_path.name,\n",
    "    'source':video_path.name,\n",
    "    'cam_prop':{\n",
    "        'fps':round(cap.get(cv2.CAP_PROP_FPS)),\n",
    "        'frame_count': int(cap.get(cv2.CAP_PROP_FRAME_COUNT))\n",
    "    },\n",
    "    'predictor':{\n",
    "        'names':model.names\n",
    "    }\n",
    "}\n",
    "\n",
    "try:\n",
    "    while cap.isOpened():\n",
    "        ret, frame = cap.read()\n",
    "        if not ret:\n",
    "            break\n",
    "        result = model.predict_and_save(frame, verbose=False)[0]\n",
    "        boxes = result.boxes.xyxyn.cpu().numpy()\n",
    "        saved_path = saver.npy(arr=boxes, cfg=config, max_buffer_len=50)\n",
    "        if cv3.imshow(result.plot()).interrupt(1):\n",
    "            break\n",
    "finally:\n",
    "    cap.release()\n",
    "    cv3.destroyAllWindows()\n",
    "\n",
    "    if saved_path:\n",
    "        config['predictor']['predictor_params'] = model._predictor_params\n",
    "        saver.save_config(config, save_as=saved_path)"
   ]
  }
 ],
 "metadata": {
  "kernelspec": {
   "display_name": "py312",
   "language": "python",
   "name": "python3"
  },
  "language_info": {
   "codemirror_mode": {
    "name": "ipython",
    "version": 3
   },
   "file_extension": ".py",
   "mimetype": "text/x-python",
   "name": "python",
   "nbconvert_exporter": "python",
   "pygments_lexer": "ipython3",
   "version": "3.12.7"
  }
 },
 "nbformat": 4,
 "nbformat_minor": 5
}
