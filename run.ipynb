{
 "cells": [
  {
   "cell_type": "code",
   "execution_count": 1,
   "id": "4a8f7194",
   "metadata": {},
   "outputs": [],
   "source": [
    "from yolo import yolo\n",
    "from save import SaveNumpy\n",
    "import cv2\n",
    "from pathlib import Path\n",
    "from submodules import cv3"
   ]
  },
  {
   "cell_type": "code",
   "execution_count": null,
   "id": "ecc711e2",
   "metadata": {},
   "outputs": [],
   "source": [
    "video_path = Path(r\"C:\\Users\\articulusaitraining\\projects\\ptg\\punthai\\videos\\29\\D01_20250529063837_re-encode.mp4\")\n",
    "model_path = Path(r\"C:\\Users\\articulusaitraining\\projects\\ptg\\punthai\\weights\\v1x_PunthaiChaengWatthana_freeze10.pt\")\n",
    "save_as = r\".\""
   ]
  },
  {
   "cell_type": "markdown",
   "id": "4b7f0406",
   "metadata": {},
   "source": [
    "Save Predicted npy"
   ]
  },
  {
   "cell_type": "code",
   "execution_count": 14,
   "id": "4ab3f655",
   "metadata": {},
   "outputs": [],
   "source": [
    "model = yolo(model_path)\n",
    "saver = SaveNumpy(save_as=save_as)\n",
    "\n",
    "cap=cv2.VideoCapture(video_path)\n",
    "saved_path = None\n",
    "\n",
    "config = {\n",
    "    'path':{\n",
    "        'model_path':model_path.as_posix(),\n",
    "        'source_path':video_path.as_posix(),\n",
    "    },\n",
    "    'model':model_path.name,\n",
    "    'source':video_path.name,\n",
    "    'cam_prop':{\n",
    "        'fps':round(cap.get(cv2.CAP_PROP_FPS)),\n",
    "        'frame_count': int(cap.get(cv2.CAP_PROP_FRAME_COUNT))\n",
    "    },\n",
    "    'predictor':{\n",
    "        'names':model.names\n",
    "    }\n",
    "}\n",
    "\n",
    "try:\n",
    "    while cap.isOpened():\n",
    "        ret, frame = cap.read()\n",
    "        if not ret:\n",
    "            break\n",
    "        result = model.predict_and_save(frame, verbose=False)[0]\n",
    "        boxes = result.boxes.xyxyn.cpu().numpy()\n",
    "        saved_path = saver.npy(arr=boxes, cfg=config)\n",
    "        if cv3.imshow(result.plot()).interrupt(1):\n",
    "            break\n",
    "finally:\n",
    "    cap.release()\n",
    "    cv3.destroyAllWindows()\n",
    "\n",
    "    if saved_path:\n",
    "        config['predictor']['predictor_params'] = model._predictor_params\n",
    "        saver.save_config(config, save_as=saved_path.parent.parent)"
   ]
  },
  {
   "cell_type": "markdown",
   "id": "5992fb2f",
   "metadata": {},
   "source": [
    "Save Predicted npz"
   ]
  },
  {
   "cell_type": "code",
   "execution_count": null,
   "id": "81c23ddb",
   "metadata": {},
   "outputs": [],
   "source": [
    "model = yolo(model_path)\n",
    "saver = SaveNumpy(save_as=save_as)\n",
    "\n",
    "cap=cv2.VideoCapture(video_path)\n",
    "saved_path = None\n",
    "\n",
    "config = {\n",
    "    'path':{\n",
    "        'model_path':model_path.as_posix(),\n",
    "        'source_path':video_path.as_posix(),\n",
    "    },\n",
    "    'model':model_path.name,\n",
    "    'source':video_path.name,\n",
    "    'cam_prop':{\n",
    "        'fps':round(cap.get(cv2.CAP_PROP_FPS)),\n",
    "        'frame_count': int(cap.get(cv2.CAP_PROP_FRAME_COUNT))\n",
    "    },\n",
    "    'predictor':{\n",
    "        'names':model.names\n",
    "    }\n",
    "}\n",
    "\n",
    "try:\n",
    "    while cap.isOpened():\n",
    "        ret, frame = cap.read()\n",
    "        if not ret:\n",
    "            break\n",
    "        result = model.predict_and_save(frame, verbose=False)[0]\n",
    "        boxes = result.boxes.xyxyn.cpu().numpy()\n",
    "        conf = result.boxes.conf.cpu().numpy()\n",
    "        cls = result.boxes.cls.cpu().numpy()\n",
    "        saved_path = saver.npz(cfg=config, boxes=boxes, conf=conf, cls=cls)\n",
    "        if cv3.imshow(result.plot()).interrupt(1):\n",
    "            break\n",
    "finally:\n",
    "    cap.release()\n",
    "    cv3.destroyAllWindows()\n",
    "\n",
    "    if saved_path:\n",
    "        config['predictor']['predictor_params'] = model._predictor_params\n",
    "        saver.save_config(config, save_as=saved_path.parent.parent)"
   ]
  },
  {
   "cell_type": "code",
   "execution_count": null,
   "id": "34229580",
   "metadata": {},
   "outputs": [],
   "source": []
  }
 ],
 "metadata": {
  "kernelspec": {
   "display_name": "panthai",
   "language": "python",
   "name": "python3"
  },
  "language_info": {
   "codemirror_mode": {
    "name": "ipython",
    "version": 3
   },
   "file_extension": ".py",
   "mimetype": "text/x-python",
   "name": "python",
   "nbconvert_exporter": "python",
   "pygments_lexer": "ipython3",
   "version": "3.12.9"
  }
 },
 "nbformat": 4,
 "nbformat_minor": 5
}
