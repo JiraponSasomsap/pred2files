{
 "cells": [
  {
   "cell_type": "code",
   "execution_count": 1,
   "id": "4a8f7194",
   "metadata": {},
   "outputs": [],
   "source": [
    "from yolo import yolo\n",
    "from save import SaveNumpy"
   ]
  },
  {
   "cell_type": "code",
   "execution_count": 2,
   "id": "f43473e4",
   "metadata": {},
   "outputs": [],
   "source": [
    "image = r\"C:\\Users\\JiraponSasomsap\\ArticulusProjects\\projects\\PTG\\old\\punthai\\panthai_videos\\cam2.jpg\""
   ]
  },
  {
   "cell_type": "code",
   "execution_count": 3,
   "id": "e7327379",
   "metadata": {},
   "outputs": [],
   "source": [
    "model_path = r\"C:\\Users\\JiraponSasomsap\\ArticulusProjects\\public_models\\yolov8x-pose-p6.pt\"\n",
    "model = yolo(model_path).set_config(image)"
   ]
  },
  {
   "cell_type": "code",
   "execution_count": 4,
   "id": "2887edc2",
   "metadata": {},
   "outputs": [],
   "source": [
    "rsave = SaveNumpy(save_as='.')\n",
    "results = model.predict_and_save(image, verbose = False)\n",
    "\n",
    "save_parent = rsave.npy(results[0].boxes.xyxy.cpu().numpy(), model._config)"
   ]
  },
  {
   "cell_type": "code",
   "execution_count": 5,
   "id": "724f488f",
   "metadata": {},
   "outputs": [],
   "source": [
    "rsave.save_config(model._config, save_parent.parent.parent)"
   ]
  },
  {
   "cell_type": "code",
   "execution_count": null,
   "id": "25adcaa2",
   "metadata": {},
   "outputs": [],
   "source": []
  },
  {
   "cell_type": "code",
   "execution_count": 6,
   "id": "1a706c2e",
   "metadata": {},
   "outputs": [],
   "source": [
    "# "
   ]
  },
  {
   "cell_type": "code",
   "execution_count": null,
   "id": "e589c29c",
   "metadata": {},
   "outputs": [],
   "source": []
  },
  {
   "cell_type": "code",
   "execution_count": null,
   "id": "23ed00bf",
   "metadata": {},
   "outputs": [],
   "source": []
  },
  {
   "cell_type": "code",
   "execution_count": null,
   "id": "82010203",
   "metadata": {},
   "outputs": [],
   "source": []
  }
 ],
 "metadata": {
  "kernelspec": {
   "display_name": "py312",
   "language": "python",
   "name": "python3"
  },
  "language_info": {
   "codemirror_mode": {
    "name": "ipython",
    "version": 3
   },
   "file_extension": ".py",
   "mimetype": "text/x-python",
   "name": "python",
   "nbconvert_exporter": "python",
   "pygments_lexer": "ipython3",
   "version": "3.12.7"
  }
 },
 "nbformat": 4,
 "nbformat_minor": 5
}
