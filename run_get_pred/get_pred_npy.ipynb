{
 "cells": [
  {
   "cell_type": "code",
   "execution_count": 12,
   "id": "067be296",
   "metadata": {},
   "outputs": [],
   "source": [
    "import sys\n",
    "sys.path.append('..')\n",
    "\n",
    "from src.get_results import GetResultsNumpy\n",
    "from pathlib import Path"
   ]
  },
  {
   "cell_type": "code",
   "execution_count": 13,
   "id": "5f03732e",
   "metadata": {},
   "outputs": [],
   "source": [
    "files = Path(r\"C:\\Users\\JiraponSasomsap\\ArticulusProjects\\submodules\\pred2files\\D01_20250529063837_re-encode\\results-npy\")\n",
    "video_path = Path(r\"C:\\Users\\JiraponSasomsap\\ArticulusProjects\\projects\\PTG\\punthai-videos-ศูนย์ราชการนนทบุรี\\29\\D01_20250529063837_re-encode.mp4\")"
   ]
  },
  {
   "cell_type": "code",
   "execution_count": 23,
   "id": "8a7bf39b",
   "metadata": {},
   "outputs": [
    {
     "name": "stdout",
     "output_type": "stream",
     "text": [
      "[[0, 4999], WindowsPath('C:/Users/JiraponSasomsap/ArticulusProjects/submodules/pred2files/D01_20250529063837_re-encode/results-npy/0-4999.D01_20250529063837_re-encode.v1x_PunthaiChaengWatthana_freeze10.npy')]\n"
     ]
    }
   ],
   "source": [
    "import cv2\n",
    "from submodules.cv3 import cv3\n",
    "import numpy as np\n",
    "\n",
    "cap = cv2.VideoCapture(video_path)\n",
    "result_np = GetResultsNumpy(files, 5000)\n",
    "frame_count = 0\n",
    "\n",
    "try:\n",
    "    while cap.isOpened():\n",
    "        ret, frame = cap.read()\n",
    "        if not ret:\n",
    "            break\n",
    "        frame_count += 1\n",
    "        boxes = np.array(result_np.get_results(frame_count))\n",
    "        h, w= frame.shape[:2]\n",
    "        boxes = [[box[0]*w, box[1]*h, box[2]*w, box[3]*h] if len(box) > 0 else [] for box in boxes]\n",
    "        frame = cv3.draw_boxes(frame, boxes)\n",
    "        if cv3.imshow(frame).interrupt(1):\n",
    "            break\n",
    "        \n",
    "finally:\n",
    "    cap.release()\n",
    "    cv3.destroyAllWindows()"
   ]
  },
  {
   "cell_type": "code",
   "execution_count": 10,
   "id": "456b9a14",
   "metadata": {},
   "outputs": [
    {
     "data": {
      "text/plain": [
       "80885"
      ]
     },
     "execution_count": 10,
     "metadata": {},
     "output_type": "execute_result"
    }
   ],
   "source": [
    "frame_count"
   ]
  },
  {
   "cell_type": "code",
   "execution_count": 8,
   "id": "70a7541d",
   "metadata": {},
   "outputs": [
    {
     "data": {
      "text/plain": [
       "80884.0"
      ]
     },
     "execution_count": 8,
     "metadata": {},
     "output_type": "execute_result"
    }
   ],
   "source": [
    "cap = cv2.VideoCapture(video_path)\n",
    "cap.get(cv2.CAP_PROP_FRAME_COUNT)"
   ]
  },
  {
   "cell_type": "code",
   "execution_count": null,
   "id": "c0989a69",
   "metadata": {},
   "outputs": [],
   "source": []
  }
 ],
 "metadata": {
  "kernelspec": {
   "display_name": "py312",
   "language": "python",
   "name": "python3"
  },
  "language_info": {
   "codemirror_mode": {
    "name": "ipython",
    "version": 3
   },
   "file_extension": ".py",
   "mimetype": "text/x-python",
   "name": "python",
   "nbconvert_exporter": "python",
   "pygments_lexer": "ipython3",
   "version": "3.12.7"
  }
 },
 "nbformat": 4,
 "nbformat_minor": 5
}
